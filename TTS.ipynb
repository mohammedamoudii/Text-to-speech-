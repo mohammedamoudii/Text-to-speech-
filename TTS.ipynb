{
 "cells": [
  {
   "cell_type": "code",
   "execution_count": 23,
   "id": "5d5994e1-d10b-46b4-9c1e-8b66e3397c2b",
   "metadata": {
    "collapsed": true,
    "jupyter": {
     "outputs_hidden": true
    },
    "scrolled": true
   },
   "outputs": [
    {
     "name": "stdout",
     "output_type": "stream",
     "text": [
      "Requirement already satisfied: gtts in c:\\users\\mohammed\\anaconda3\\lib\\site-packages (2.5.2)\n",
      "Requirement already satisfied: requests<3,>=2.27 in c:\\users\\mohammed\\anaconda3\\lib\\site-packages (from gtts) (2.31.0)\n",
      "Requirement already satisfied: click<8.2,>=7.1 in c:\\users\\mohammed\\anaconda3\\lib\\site-packages (from gtts) (8.1.7)\n",
      "Requirement already satisfied: colorama in c:\\users\\mohammed\\anaconda3\\lib\\site-packages (from click<8.2,>=7.1->gtts) (0.4.6)\n",
      "Requirement already satisfied: charset-normalizer<4,>=2 in c:\\users\\mohammed\\anaconda3\\lib\\site-packages (from requests<3,>=2.27->gtts) (2.0.4)\n",
      "Requirement already satisfied: idna<4,>=2.5 in c:\\users\\mohammed\\anaconda3\\lib\\site-packages (from requests<3,>=2.27->gtts) (3.4)\n",
      "Requirement already satisfied: urllib3<3,>=1.21.1 in c:\\users\\mohammed\\anaconda3\\lib\\site-packages (from requests<3,>=2.27->gtts) (2.0.7)\n",
      "Requirement already satisfied: certifi>=2017.4.17 in c:\\users\\mohammed\\anaconda3\\lib\\site-packages (from requests<3,>=2.27->gtts) (2024.7.4)\n",
      "Collecting pygame\n",
      "  Downloading pygame-2.6.0-cp311-cp311-win_amd64.whl.metadata (13 kB)\n",
      "Downloading pygame-2.6.0-cp311-cp311-win_amd64.whl (10.8 MB)\n",
      "   ---------------------------------------- 0.0/10.8 MB ? eta -:--:--\n",
      "   ---------------------------------------- 0.0/10.8 MB 640.0 kB/s eta 0:00:17\n",
      "   ---------------------------------------- 0.0/10.8 MB 487.6 kB/s eta 0:00:22\n",
      "   ---------------------------------------- 0.1/10.8 MB 1.0 MB/s eta 0:00:11\n",
      "    --------------------------------------- 0.2/10.8 MB 1.5 MB/s eta 0:00:08\n",
      "   - -------------------------------------- 0.5/10.8 MB 2.3 MB/s eta 0:00:05\n",
      "   --- ------------------------------------ 0.8/10.8 MB 3.3 MB/s eta 0:00:04\n",
      "   ---- ----------------------------------- 1.3/10.8 MB 4.2 MB/s eta 0:00:03\n",
      "   ------- -------------------------------- 2.1/10.8 MB 6.2 MB/s eta 0:00:02\n",
      "   ------------ --------------------------- 3.5/10.8 MB 8.8 MB/s eta 0:00:01\n",
      "   ----------------- ---------------------- 4.6/10.8 MB 10.5 MB/s eta 0:00:01\n",
      "   ----------------------- ---------------- 6.3/10.8 MB 13.1 MB/s eta 0:00:01\n",
      "   ------------------------------ --------- 8.2/10.8 MB 15.3 MB/s eta 0:00:01\n",
      "   ------------------------------------ --- 9.9/10.8 MB 17.1 MB/s eta 0:00:01\n",
      "   ---------------------------------------  10.7/10.8 MB 27.3 MB/s eta 0:00:01\n",
      "   ---------------------------------------- 10.8/10.8 MB 25.2 MB/s eta 0:00:00\n",
      "Installing collected packages: pygame\n",
      "Successfully installed pygame-2.6.0\n"
     ]
    }
   ],
   "source": [
    "!pip install gtts\n",
    "!pip install pygame"
   ]
  },
  {
   "cell_type": "code",
   "execution_count": 7,
   "id": "8ed5a65c-a00f-47a6-908e-bc83f05f1ad6",
   "metadata": {},
   "outputs": [],
   "source": [
    "import os \n"
   ]
  },
  {
   "cell_type": "code",
   "execution_count": 25,
   "id": "94e3170f-16c0-4743-8250-1d13bb47de65",
   "metadata": {},
   "outputs": [
    {
     "name": "stdout",
     "output_type": "stream",
     "text": [
      "pygame 2.6.0 (SDL 2.28.4, Python 3.11.7)\n",
      "Hello from the pygame community. https://www.pygame.org/contribute.html\n"
     ]
    }
   ],
   "source": [
    "# Import the required module for text to speech conversion\n",
    "from gtts import gTTS\n",
    "import pygame\n",
    "import io\n",
    "\n",
    "# The text that you want to convert to audio\n",
    "mytext = 'This is a text to speech file yay we made it !'\n",
    "\n",
    "# Language in which you want to convert\n",
    "language = 'en'\n",
    "\n",
    "\n",
    "myobj = gTTS(text=mytext, lang=language, slow=False)\n",
    "\n",
    "# Use BytesIO to handle the audio data in-memory\n",
    "audio_data = io.BytesIO()\n",
    "myobj.write_to_fp(audio_data)\n",
    "audio_data.seek(0)\n",
    "\n",
    "# Initialize the mixer module\n",
    "pygame.mixer.init()\n",
    "\n",
    "# Load the audio data from BytesIO\n",
    "pygame.mixer.music.load(audio_data, 'mp3')\n",
    "\n",
    "# Play the loaded audio data\n",
    "pygame.mixer.music.play()\n",
    "\n",
    "# Keep the program running long enough to hear the audio\n",
    "while pygame.mixer.music.get_busy():\n",
    "    continue\n"
   ]
  },
  {
   "cell_type": "code",
   "execution_count": null,
   "id": "6cef5488-f478-43b3-a88c-359d37bb3e14",
   "metadata": {},
   "outputs": [],
   "source": []
  }
 ],
 "metadata": {
  "kernelspec": {
   "display_name": "Python 3 (ipykernel)",
   "language": "python",
   "name": "python3"
  },
  "language_info": {
   "codemirror_mode": {
    "name": "ipython",
    "version": 3
   },
   "file_extension": ".py",
   "mimetype": "text/x-python",
   "name": "python",
   "nbconvert_exporter": "python",
   "pygments_lexer": "ipython3",
   "version": "3.11.7"
  }
 },
 "nbformat": 4,
 "nbformat_minor": 5
}
